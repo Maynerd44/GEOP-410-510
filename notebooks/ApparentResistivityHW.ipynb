{
 "cells": [
  {
   "cell_type": "markdown",
   "metadata": {},
   "source": [
    "##  Forward modelling DC on a homogenous earth\n",
    "Define the geophysical data $d$ using the following relation\n",
    "$$ \\mathbf{d} = f(\\mathbf{m}) + \\epsilon, $$\n",
    "where $f$ is the forward operator, $m$ is a model, and $\\epsilon$ is a noise distribution. \n",
    "\n",
    "### DC scenario\n",
    "Consider the case of a dipole-dipole DC survey collected over a homogenous and isotropic half space of 100 $\\Omega \\cdot \\mathrm{m}$. Your task is to calculate the measured resistance $V/I$ which would be observed in such a survey.\n",
    "\n",
    "### These lines of code simply import some Python libraries that will be used. "
   ]
  },
  {
   "cell_type": "code",
   "execution_count": null,
   "metadata": {},
   "outputs": [],
   "source": [
    "!pip install numpy\n",
    "!pip install matplotlib \n",
    "!pip install scipy\n",
    "%matplotlib inline\n",
    "import numpy as np\n",
    "import matplotlib.pyplot as plt\n",
    "from scipy.interpolate import griddata\n",
    "import time \n",
    "from IPython import display "
   ]
  },
  {
   "cell_type": "markdown",
   "metadata": {},
   "source": [
    "### Survey configuration\n",
    "Electrodes are spaced 1 metre apart from 0 to 11 metres in a straight line."
   ]
  },
  {
   "cell_type": "code",
   "execution_count": null,
   "metadata": {},
   "outputs": [],
   "source": [
    "# Electrode locations \n",
    "NE = 12    # number of electrodes, must be even \n",
    "RHOA = 100 # half-space resistivity, same as \\rho_a\n",
    "# locations of electrodes \n",
    "Ex = np.linspace(0, 11, NE)  "
   ]
  },
  {
   "cell_type": "markdown",
   "metadata": {},
   "source": [
    "## Task:\n",
    "Remember $\\rho_a = RK$ where $R$ is measured resistance $dV/I$ (differential voltage measurement across AB divided by current...our current normalized data) and $K$ is the gemetric factor. The geometric factor is \n",
    "\t$$\n",
    "\t\tK =2\\pi \\left\\{ \\left[ \\frac{1}{AM}  -  \\frac{1}{MB} \\right]  -  \n",
    "\t\t\t\t\t\\left[ \\frac{1}{AN}  -  \\frac{1}{NB} \\right]  \n",
    "\t\t  \t    \\right\\}^{-1}\n",
    "\t$$\n",
    "Your task, should you choose to accept it, is to calculate the geometric factor and forward model a half-space resistivity at each point in the dipole-dipole survey. **It is only necessary to edit code between the TODO statements below.**"
   ]
  },
  {
   "cell_type": "code",
   "execution_count": null,
   "metadata": {},
   "outputs": [],
   "source": [
    "# Set up lists to fill with data\n",
    "KK,SS,XX,IA,IB,IM,IN,RR,PP = [],[],[],[],[],[],[],[],[]\n",
    "\n",
    "\n",
    "fig = plt.figure()\n",
    "ax = fig.add_axes([.1,.1,.8,.8])\n",
    "ax.set_ylim(-.5,12)\n",
    "ax.set_xlim(-.5,12)\n",
    "ax.invert_yaxis() \n",
    "ax.set_aspect('equal')\n",
    "ax.set_title('pseudo-section locations')\n",
    "cmap = plt.cm.get_cmap(\"viridis\")\n",
    "\n",
    "# Loop over AB pairs \n",
    "for iA, A in enumerate (Ex[0:-1]):\n",
    "    iB = iA+1 \n",
    "    B = Ex[iB] \n",
    "    # loop over MN pairs\n",
    "    for iM in range(iB+1, NE-1, 1):\n",
    "        iN = iM + 1\n",
    "        M = Ex[iM]\n",
    "        N = Ex[iN]\n",
    "        AB = (A+B)/2\n",
    "        MN = (M+N)/2\n",
    "        ABMN = np.average([AB,MN])                           # location of point\n",
    "        S = np.sqrt( ((A+B)/2 - (M+N)/2)**2 )                # separation\n",
    "        XX.append(ABMN)\n",
    "        SS.append(S)\n",
    "        IA.append(iA)\n",
    "        IB.append(iB)\n",
    "        IM.append(iM)\n",
    "        IN.append(iN)\n",
    "        PP.append(RHOA)                                       # apparent resistivity for halfspace is trivial\n",
    "        \n",
    "        ##########################################################################\n",
    "        # TODO calculate geometric factor and recorded resistivity at each point  #\n",
    "        ##########################################################################\n",
    "        K = np.random.normal()                               # geometric factor\n",
    "        R = np.random.normal()                               # resistivity\n",
    "        pi = np.pi\n",
    "      \n",
    "        \n",
    "        ##########################################################################\n",
    "        # END TODO                                                                  #\n",
    "        ##########################################################################\n",
    "        KK.append(K)\n",
    "        RR.append(R)\n",
    "        \n",
    "        # plot up pseudo section locations\n",
    "        ax.plot(ABMN, S, 'o', color=cmap(.25)) #cmap(np.abs(K)/np.max(np.abs(KK))))\n",
    "        ax.set_xlabel(\"x (m)\")\n",
    "        ax.set_ylabel(\"y (m)\")\n",
    "        pab, = ax.plot([A,B], [0,0], '-x', color='black')\n",
    "        pmn, = ax.plot([M,N], [0,0], '-x', color='red')\n",
    "        display.display(fig)\n",
    "        display.clear_output(wait=True)\n",
    "        time.sleep(0.25)\n",
    "        pab.remove()\n",
    "        pmn.remove()   \n",
    "        \n",
    "# add 2% Gaussian noise\n",
    "RN = RR + np.random.normal(0, .02 * np.max(np.abs(RR)), len(RR))\n",
    "PaN = RN*KK"
   ]
  },
  {
   "cell_type": "markdown",
   "metadata": {},
   "source": [
    "### Plot your results\n",
    "Look at plots of your calculations, are they what you expect?"
   ]
  },
  {
   "cell_type": "code",
   "execution_count": null,
   "metadata": {},
   "outputs": [],
   "source": [
    "######################\n",
    "# plots of the above #\n",
    "######################\n",
    "\n",
    "plt.figure()\n",
    "plt.gca().invert_yaxis() \n",
    "plt.gca().set_aspect('equal')\n",
    "# in scatter size is s, colour is c\n",
    "plt.scatter(XX, SS, s=np.abs(KK), c=np.log10(np.abs(RR)), label='Forward $(\\Omega)$')\n",
    "cb = plt.colorbar()\n",
    "cb.set_label(r\"$\\log |R|$ ($\\Omega$)\")\n",
    "plt.gca().set_title(\"Forward modeled data\")\n",
    "plt.gca().set_xlabel(\"x (m)\")\n",
    "plt.gca().set_ylabel(\"y (m)\")\n",
    "plt.legend()\n",
    "\n",
    "# countour plot of geometric factor\n",
    "fig2 = plt.figure()\n",
    "ax2 = fig2.add_axes([.1,.1,.8,.8])\n",
    "plt.gca().invert_yaxis() \n",
    "ax2.set_title(\"Interpolated contour plot of $K$\")\n",
    "ax2.tricontour(XX, SS, KK, levels=14, linewidths=0.5, colors='k')\n",
    "KKmax = np.max(np.abs(KK))\n",
    "cntr2 = ax2.tricontourf(XX, SS, KK, vmin=-KKmax, vmax=KKmax, levels=14, cmap=\"RdBu_r\")\n",
    "cb = plt.colorbar(cntr2, ax=ax2)\n",
    "cb.set_label('Geometric factor')\n",
    "plt.gca().set_xlabel(\"x (m)\")\n",
    "plt.gca().set_ylabel(\"y (m)\")\n",
    "\n",
    "# contour plot of predicted resistivity \n",
    "fig2 = plt.figure()\n",
    "ax2 = fig2.add_axes([.1,.1,.8,.8])\n",
    "plt.gca().invert_yaxis() \n",
    "ax2.set_title(\"Interpolated contour plot of clean data\")\n",
    "RRmax = np.max(np.abs(RR))\n",
    "ax2.tricontour(XX, SS, RR, levels=14, linewidths=0.5, colors='k')\n",
    "cntr2 = ax2.tricontourf(XX, SS, RR, levels=14, vmin=-RRmax, vmax=RRmax, cmap=\"RdBu_r\")\n",
    "plt.gca().set_xlabel(\"x (m)\")\n",
    "plt.gca().set_ylabel(\"y (m)\")\n",
    "cb = plt.colorbar(cntr2, ax=ax2)\n",
    "cb.set_label('Forward modeled resistivities')\n",
    "\n",
    "# contour plot of predicted resistivity with noise\n",
    "fig2 = plt.figure()\n",
    "ax2 = fig2.add_axes([.1,.1,.8,.8])\n",
    "plt.gca().invert_yaxis() \n",
    "ax2.set_title(\"Interpolated contour plot of noisy data\")\n",
    "RNmax = np.max(np.abs(RN))\n",
    "ax2.tricontour(XX, SS, RN, levels=14, linewidths=0.5, colors='k')\n",
    "cntr2 = ax2.tricontourf(XX, SS, RN, levels=14, vmin=-RNmax, vmax=RNmax, cmap=\"RdBu_r\")\n",
    "plt.gca().set_xlabel(\"x (m)\")\n",
    "plt.gca().set_ylabel(\"y (m)\")\n",
    "cb = plt.colorbar(cntr2, ax=ax2)\n",
    "cb.set_label('Forward modeled resistivities')"
   ]
  },
  {
   "cell_type": "markdown",
   "metadata": {},
   "source": [
    "### Save your results\n",
    "Write out your results to a file called \"ForwardClean.dat\" and \"ForwardNoisy.dat\" with the same format as ResIPy. \n",
    "\n",
    "### When you are done! \n",
    "If you are using Binder, download ipynb file and email it to me. If you are using Anaconda Python, email me your notebook file. "
   ]
  },
  {
   "cell_type": "code",
   "execution_count": null,
   "metadata": {},
   "outputs": [],
   "source": [
    "ff = open('ForwardClean.dat', 'w')\n",
    "ff.write(\"          \" + str(len(KK)) + \"\\r\\n\" )\n",
    "for dat in range(len(KK)):\n",
    "    ff.write(str(dat+1).rjust(5) + str(IA[dat]+1).rjust(7) + str(IB[dat]+1).rjust(7) \\\n",
    "                                 + str(IM[dat]+1).rjust(7) + str(IN[dat]+1).rjust(7) \\\n",
    "                                 + format(RR[dat], ' >20.10E') \\\n",
    "                                 + format(PP[dat], ' >15.5F' )+  \"\\r\\n\" )\n",
    "ff.close()    \n",
    "    \n",
    "ff = open('ForwardNoise.dat', 'w')\n",
    "ff.write(\"          \" + str(len(KK)) + \"\\r\\n\" )\n",
    "for dat in range(len(KK)):\n",
    "    ff.write(str(dat+1).rjust(5) + str(IA[dat]+1).rjust(7) + str(IB[dat]+1).rjust(7) \\\n",
    "                                 + str(IM[dat]+1).rjust(7) + str(IN[dat]+1).rjust(7) \\\n",
    "                                 + format(RN[dat], ' >20.10E') \\\n",
    "                                 + format(PaN[dat], ' >15.5F' )+  \"\\r\\n\" )\n",
    "ff.close()"
   ]
  },
  {
   "cell_type": "code",
   "execution_count": null,
   "metadata": {},
   "outputs": [],
   "source": []
  }
 ],
 "metadata": {
  "kernelspec": {
   "display_name": "Python 3",
   "language": "python",
   "name": "python3"
  },
  "language_info": {
   "codemirror_mode": {
    "name": "ipython",
    "version": 3
   },
   "file_extension": ".py",
   "mimetype": "text/x-python",
   "name": "python",
   "nbconvert_exporter": "python",
   "pygments_lexer": "ipython3",
   "version": "3.8.5"
  }
 },
 "nbformat": 4,
 "nbformat_minor": 4
}

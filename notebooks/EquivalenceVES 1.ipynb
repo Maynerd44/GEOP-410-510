{
 "cells": [
  {
   "cell_type": "markdown",
   "metadata": {},
   "source": [
    "# VES equivalence\n",
    "\n",
    "In this exercise you will investigate VES through forward modelling. We will be using the SimPEG code released by UBC and others https://simpeg.xyz/. Installation is simple:"
   ]
  },
  {
   "cell_type": "code",
   "execution_count": null,
   "metadata": {},
   "outputs": [],
   "source": [
    "! pip install simpeg matplotlib \n",
    "import os\n",
    "import numpy as np\n",
    "import matplotlib.pyplot as plt\n",
    "\n",
    "from discretize import TensorMesh\n",
    "\n",
    "from SimPEG import maps\n",
    "from SimPEG.electromagnetics.static import resistivity as dc\n",
    "from SimPEG.electromagnetics.static.utils.static_utils import plot_layer\n",
    "plt.style.use('ggplot')\n",
    "save_file = False"
   ]
  },
  {
   "cell_type": "markdown",
   "metadata": {},
   "source": [
    "# Survey configuration\n",
    "We begin by setting up a Wener sounding array, this code is borrowed from SimPEG examples \n"
   ]
  },
  {
   "cell_type": "code",
   "execution_count": null,
   "metadata": {},
   "outputs": [],
   "source": [
    "#####################################################################\n",
    "# Create Survey\n",
    "# -------------\n",
    "#\n",
    "# Here we demonstrate a general way to define sources and receivers.\n",
    "# For pole and dipole sources, we must define the A or AB electrode locations,\n",
    "# respectively. For the pole and dipole receivers, we must define the M or\n",
    "# MN electrode locations, respectively.\n",
    "#\n",
    "\n",
    "a_min = 20.0\n",
    "a_max = 100.0\n",
    "n_stations = 25\n",
    "\n",
    "# Define the 'a' spacing for Wenner array measurements for each reading\n",
    "electrode_separations = np.linspace(a_min, a_max, n_stations)\n",
    "\n",
    "source_list = []  # create empty array for sources to live\n",
    "\n",
    "for ii in range(0, len(electrode_separations)):\n",
    "\n",
    "    # Extract separation parameter for sources and receivers\n",
    "    a = electrode_separations[ii]\n",
    "\n",
    "    # AB electrode locations for source. Each is a (1, 3) numpy array\n",
    "    A_location = np.r_[-1.5 * a, 0.0, 0.0]\n",
    "    B_location = np.r_[1.5 * a, 0.0, 0.0]\n",
    "\n",
    "    # MN electrode locations for receivers. Each is an (N, 3) numpy array\n",
    "    M_location = np.r_[-0.5 * a, 0.0, 0.0]\n",
    "    N_location = np.r_[0.5 * a, 0.0, 0.0]\n",
    "\n",
    "    # Create receivers list. Define as pole or dipole.\n",
    "    receiver_list = dc.receivers.Dipole(M_location, N_location)\n",
    "    receiver_list = [receiver_list]\n",
    "\n",
    "    # Define the source properties and associated receivers\n",
    "    source_list.append(dc.sources.Dipole(receiver_list, A_location, B_location))\n",
    "\n",
    "# Define survey\n",
    "survey = dc.Survey(source_list)"
   ]
  },
  {
   "cell_type": "markdown",
   "metadata": {},
   "source": [
    "# Define a 1D conductivity model"
   ]
  },
  {
   "cell_type": "code",
   "execution_count": null,
   "metadata": {},
   "outputs": [],
   "source": [
    "###############################################\n",
    "# Defining a 1D Layered Earth Model\n",
    "# ---------------------------------\n",
    "#\n",
    "# Here, we define the layer thicknesses and electrical resistivities for our\n",
    "# 1D simulation. If we have N layers, we define N electrical resistivity\n",
    "# values and N-1 layer thicknesses. The lowest layer is assumed to extend to\n",
    "# infinity.\n",
    "#\n",
    "\n",
    "# Define layer thicknesses.\n",
    "layer_thicknesses = np.r_[50.0, 20.0]\n",
    "\n",
    "# Define layer resistivities.\n",
    "model = np.r_[2e3, 1e1, 2e3]\n",
    "\n",
    "print(\"Layer 2 conductance (h / rho) (model)\", layer_thicknesses[1]/model[1] )\n",
    "\n",
    "# Define mapping from model to 1D layers.\n",
    "model_map = maps.IdentityMap(nP=len(model))\n",
    "\n",
    "###############################################################\n",
    "# Plot Resistivity Model\n",
    "# ----------------------\n",
    "\n",
    "# Define a 1D mesh for plotting. Provide a maximum depth for the plot.\n",
    "max_depth = 200\n",
    "mesh = TensorMesh([np.r_[layer_thicknesses, max_depth - layer_thicknesses.sum()]])\n",
    "\n",
    "# Plot the 1D model\n",
    "plot_layer(model_map * model, mesh, color='red')"
   ]
  },
  {
   "cell_type": "markdown",
   "metadata": {},
   "source": [
    "# Perform forward modelling\n",
    "We use SimPEG to calculate the forward response"
   ]
  },
  {
   "cell_type": "code",
   "execution_count": null,
   "metadata": {},
   "outputs": [],
   "source": [
    "#######################################################################\n",
    "# Define the Forward Simulation and Predict DC Resistivity Data\n",
    "# -------------------------------------------------------------\n",
    "#\n",
    "# Here we predict DC resistivity data. If the keyword argument *rhoMap* is\n",
    "# defined, the simulation will expect a resistivity model. If the keyword\n",
    "# argument *sigmaMap* is defined, the simulation will expect a conductivity model.\n",
    "#\n",
    "\n",
    "simulation = dc.simulation_1d.Simulation1DLayers(\n",
    "    survey=survey,\n",
    "    rhoMap=model_map,\n",
    "    thicknesses=layer_thicknesses,\n",
    "    data_type=\"apparent_resistivity\",\n",
    ")\n",
    "\n",
    "# Predict data for a given model\n",
    "dpred = simulation.dpred(model)\n",
    "\n",
    "# Plot apparent resistivities on sounding curve\n",
    "fig = plt.figure(figsize=(11, 5))\n",
    "ax1 = fig.add_axes([0.1, 0.1, 0.75, 0.85])\n",
    "ax1.semilogy(1.5 * electrode_separations, dpred, \"red\")\n",
    "ax1.set_xlabel(\"AB/2 (m)\")\n",
    "ax1.set_ylabel(\"Apparent Resistivity ($\\Omega m$)\")\n",
    "plt.show()\n",
    "\n"
   ]
  },
  {
   "cell_type": "markdown",
   "metadata": {},
   "source": [
    "# Define a second conductivity model"
   ]
  },
  {
   "cell_type": "code",
   "execution_count": null,
   "metadata": {},
   "outputs": [],
   "source": [
    "###############################################\n",
    "# Defining a 1D Layered Earth Model\n",
    "# ---------------------------------\n",
    "#\n",
    "# Here, we define the layer thicknesses and electrical resistivities for our\n",
    "# 1D simulation. If we have N layers, we define N electrical resistivity\n",
    "# values and N-1 layer thicknesses. The lowest layer is assumed to extend to\n",
    "# infinity.\n",
    "#\n",
    "\n",
    "# Define layer thicknesses.\n",
    "layer_thicknesses2 = np.r_[50.0, 10.]\n",
    "\n",
    "# Define layer resistivities.\n",
    "model2 = np.r_[2e3, 5, 2e3]\n",
    "\n",
    "print(\"Layer 2 conductance (model2)\", layer_thicknesses2[1]/model2[1] )\n",
    "\n",
    "# Define mapping from model to 1D layers.\n",
    "model_map2 = maps.IdentityMap(nP=len(model2))\n",
    "\n",
    "###############################################################\n",
    "# Plot Resistivity Model\n",
    "# ----------------------\n",
    "\n",
    "# Define a 1D mesh for plotting. Provide a maximum depth for the plot.\n",
    "max_depth = 200\n",
    "mesh2 = TensorMesh([np.r_[layer_thicknesses2, max_depth - layer_thicknesses2.sum()]])\n",
    "\n",
    "# Plot the 1D model\n",
    "plot_layer(model_map * model, mesh, color='red', label='model1', linewidth=3)\n",
    "plot_layer(model_map2 * model2, mesh2, label='model2')\n",
    "plt.legend()\n"
   ]
  },
  {
   "cell_type": "code",
   "execution_count": null,
   "metadata": {},
   "outputs": [],
   "source": [
    "#######################################################################\n",
    "# Define the Forward Simulation and Predict DC Resistivity Data\n",
    "# -------------------------------------------------------------\n",
    "#\n",
    "# Here we predict DC resistivity data. If the keyword argument *rhoMap* is\n",
    "# defined, the simulation will expect a resistivity model. If the keyword\n",
    "# argument *sigmaMap* is defined, the simulation will expect a conductivity model.\n",
    "#\n",
    "\n",
    "# Predict data for a given model\n",
    "dpred2 = simulation.dpred(model2)\n",
    "\n",
    "# Plot apparent resistivities on sounding curve\n",
    "fig = plt.figure(figsize=(11, 5))\n",
    "ax1 = fig.add_axes([0.1, 0.1, 0.75, 0.85])\n",
    "ax1.semilogy(1.5 * electrode_separations, dpred2, \"b\")\n",
    "ax1.set_xlabel(\"AB/2 (m)\")\n",
    "ax1.set_ylabel(\"Apparent Resistivity ($\\Omega m$)\")\n",
    "plt.show()"
   ]
  },
  {
   "cell_type": "markdown",
   "metadata": {},
   "source": [
    "# Plot the difference"
   ]
  },
  {
   "cell_type": "code",
   "execution_count": null,
   "metadata": {},
   "outputs": [],
   "source": [
    "# Plot apparent resistivities on sounding curve\n",
    "fig = plt.figure(figsize=(11, 5))\n",
    "ax1 = fig.add_axes([0.1, 0.1, 0.75, 0.85])\n",
    "ax1.semilogy(1.5 * electrode_separations, dpred, \"red\", label='model1 sounding')\n",
    "ax1.semilogy(1.5 * electrode_separations, dpred2, \"black\", label='model2 sounding')\n",
    "#ax3 = plt.twinx()\n",
    "ax1.semilogy(1.5 * electrode_separations, np.abs(dpred-dpred2), '--', color=\"black\", label='difference')\n",
    "ax1.set_xlabel(\"AB/2 (m)\")\n",
    "ax1.set_ylabel(\"Apparent Resistivity ($\\Omega m$)\")\n",
    "plt.legend()\n",
    "plt.show()"
   ]
  },
  {
   "cell_type": "markdown",
   "metadata": {},
   "source": [
    "# Let's save these sounding curves..."
   ]
  },
  {
   "cell_type": "code",
   "execution_count": null,
   "metadata": {},
   "outputs": [],
   "source": [
    "if True:\n",
    "\n",
    "    dir_path = os.getcwd() #.split(os.path.sep)\n",
    "    #print(\"here\", dir_path)\n",
    "    dir_path += os.path.sep + \"equivalence\"\n",
    "    #dir_path = os.path.sep.join(dir_path) + os.path.sep\n",
    "\n",
    "    print(os.getcwd() )\n",
    "    print( os.getcwd().split(os.path.sep) )\n",
    "    print(\"Saving files in \", dir_path)\n",
    "    if not os.path.exists(dir_path):\n",
    "        os.makedirs(dir_path)\n",
    "    dir_path += os.path.sep \n",
    "    \n",
    "    noise = 0.025 * dpred * np.random.rand(len(dpred))\n",
    "\n",
    "    data_array = np.c_[\n",
    "        survey.locations_a,\n",
    "        survey.locations_b,\n",
    "        survey.locations_m,\n",
    "        survey.locations_n,\n",
    "        dpred + noise,\n",
    "    ]\n",
    "\n",
    "    fname = dir_path + \"model1.dobs\"\n",
    "    \n",
    "    np.savetxt(fname, data_array, fmt=\"%.4e\")\n",
    "\n",
    "    fname = dir_path + \"true_model1.txt\"\n",
    "    np.savetxt(fname, model, fmt=\"%.4e\")\n",
    "\n",
    "    fname = dir_path + \"layers1.txt\"\n",
    "    np.savetxt(fname, mesh.hx, fmt=\"%d\")\n",
    "    \n",
    "    # second model \n",
    "    \n",
    "    noise2 = 0.025 * dpred2 * np.random.rand(len(dpred))\n",
    "    data_array2 = np.c_[\n",
    "        survey.locations_a,\n",
    "        survey.locations_b,\n",
    "        survey.locations_m,\n",
    "        survey.locations_n,\n",
    "        dpred2 + noise2,\n",
    "    ]\n",
    "    \n",
    "    # model 2\n",
    "    fname = dir_path + \"model2.dobs\"\n",
    "    np.savetxt(fname, data_array2, fmt=\"%.4e\")\n",
    "\n",
    "    fname = dir_path + \"true_model2.txt\"\n",
    "    np.savetxt(fname, model2, fmt=\"%.4e\")\n",
    "\n",
    "    fname = dir_path + \"layers2.txt\"\n",
    "    np.savetxt(fname, mesh2.hx, fmt=\"%d\")"
   ]
  },
  {
   "cell_type": "markdown",
   "metadata": {},
   "source": [
    "# Questions:\n",
    " * Why is this happening? \n",
    " * What impact do you think this will have on inversion? \n",
    " * The longitudinal conductance is constant for the above, why would this be an important factor? \n",
    " \n",
    " \n",
    "# Assigment\n",
    "Modify this example for the case of an 20 metre thick insulator (500 Ohm m)between two conductive layers (20 Ohm m). \n",
    " * Can you find an equivalent layer in this situation? \n",
    " * What factor has to be constant?\n"
   ]
  },
  {
   "cell_type": "code",
   "execution_count": null,
   "metadata": {},
   "outputs": [],
   "source": []
  }
 ],
 "metadata": {
  "kernelspec": {
   "display_name": "Python 3",
   "language": "python",
   "name": "python3"
  },
  "language_info": {
   "codemirror_mode": {
    "name": "ipython",
    "version": 3
   },
   "file_extension": ".py",
   "mimetype": "text/x-python",
   "name": "python",
   "nbconvert_exporter": "python",
   "pygments_lexer": "ipython3",
   "version": "3.8.5"
  }
 },
 "nbformat": 4,
 "nbformat_minor": 4
}
